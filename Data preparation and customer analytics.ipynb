{
 "cells": [
  {
   "cell_type": "markdown",
   "metadata": {},
   "source": [
    "## Module 1: Data preparation and customer analytics\n",
    "\n",
    "#### Conduct analysis on the client's transaction dataset and customer behaviour data. identify customer purchasing behaviours to generate insights and provide commercial recommendations.\n",
    "\n",
    "Present a strategic recommendation to Julia the Category Manager for chips,supported with data that she can use to make her orders for the upcoming category review. \n",
    "\n",
    "#### Analyse the data to understand the current purchasing trends and behaviours. The client is particularly interested in customer segments that makes the most purchases.\n",
    "\n",
    "#### What metrics would help describe the customers’ purchasing behaviour?"
   ]
  },
  {
   "cell_type": "code",
   "execution_count": 1,
   "metadata": {},
   "outputs": [],
   "source": [
    "import pandas as pd\n",
    "import matplotlib.pyplot as plt\n",
    "%matplotlib inline\n",
    "import numpy as np\n",
    "import seaborn as sns\n",
    "%matplotlib inline  "
   ]
  },
  {
   "cell_type": "markdown",
   "metadata": {},
   "source": [
    "## Exploratory Data Analysis:"
   ]
  },
  {
   "cell_type": "code",
   "execution_count": 2,
   "metadata": {},
   "outputs": [
    {
     "data": {
      "text/html": [
       "<div>\n",
       "<style scoped>\n",
       "    .dataframe tbody tr th:only-of-type {\n",
       "        vertical-align: middle;\n",
       "    }\n",
       "\n",
       "    .dataframe tbody tr th {\n",
       "        vertical-align: top;\n",
       "    }\n",
       "\n",
       "    .dataframe thead th {\n",
       "        text-align: right;\n",
       "    }\n",
       "</style>\n",
       "<table border=\"1\" class=\"dataframe\">\n",
       "  <thead>\n",
       "    <tr style=\"text-align: right;\">\n",
       "      <th></th>\n",
       "      <th>LYLTY_CARD_NBR</th>\n",
       "      <th>LIFESTAGE</th>\n",
       "      <th>PREMIUM_CUSTOMER</th>\n",
       "    </tr>\n",
       "  </thead>\n",
       "  <tbody>\n",
       "    <tr>\n",
       "      <th>0</th>\n",
       "      <td>1000</td>\n",
       "      <td>YOUNG SINGLES/COUPLES</td>\n",
       "      <td>Premium</td>\n",
       "    </tr>\n",
       "    <tr>\n",
       "      <th>1</th>\n",
       "      <td>1002</td>\n",
       "      <td>YOUNG SINGLES/COUPLES</td>\n",
       "      <td>Mainstream</td>\n",
       "    </tr>\n",
       "    <tr>\n",
       "      <th>2</th>\n",
       "      <td>1003</td>\n",
       "      <td>YOUNG FAMILIES</td>\n",
       "      <td>Budget</td>\n",
       "    </tr>\n",
       "    <tr>\n",
       "      <th>3</th>\n",
       "      <td>1004</td>\n",
       "      <td>OLDER SINGLES/COUPLES</td>\n",
       "      <td>Mainstream</td>\n",
       "    </tr>\n",
       "  </tbody>\n",
       "</table>\n",
       "</div>"
      ],
      "text/plain": [
       "   LYLTY_CARD_NBR              LIFESTAGE PREMIUM_CUSTOMER\n",
       "0            1000  YOUNG SINGLES/COUPLES          Premium\n",
       "1            1002  YOUNG SINGLES/COUPLES       Mainstream\n",
       "2            1003         YOUNG FAMILIES           Budget\n",
       "3            1004  OLDER SINGLES/COUPLES       Mainstream"
      ]
     },
     "execution_count": 2,
     "metadata": {},
     "output_type": "execute_result"
    }
   ],
   "source": [
    "pr_bhv = pd.read_csv(\"QVI_purchase_behaviour.csv\")\n",
    "pr_bhv.head(4)"
   ]
  },
  {
   "cell_type": "code",
   "execution_count": 3,
   "metadata": {},
   "outputs": [
    {
     "name": "stdout",
     "output_type": "stream",
     "text": [
      "<class 'pandas.core.frame.DataFrame'>\n",
      "RangeIndex: 72637 entries, 0 to 72636\n",
      "Data columns (total 3 columns):\n",
      "LYLTY_CARD_NBR      72637 non-null int64\n",
      "LIFESTAGE           72637 non-null object\n",
      "PREMIUM_CUSTOMER    72637 non-null object\n",
      "dtypes: int64(1), object(2)\n",
      "memory usage: 1.7+ MB\n"
     ]
    }
   ],
   "source": [
    "pr_bhv.info()"
   ]
  },
  {
   "cell_type": "code",
   "execution_count": 4,
   "metadata": {},
   "outputs": [
    {
     "name": "stdout",
     "output_type": "stream",
     "text": [
      "<class 'pandas.core.frame.DataFrame'>\n",
      "RangeIndex: 264836 entries, 0 to 264835\n",
      "Data columns (total 8 columns):\n",
      "DATE              264836 non-null int64\n",
      "STORE_NBR         264836 non-null int64\n",
      "LYLTY_CARD_NBR    264836 non-null int64\n",
      "TXN_ID            264836 non-null int64\n",
      "PROD_NBR          264836 non-null int64\n",
      "PROD_NAME         264836 non-null object\n",
      "PROD_QTY          264836 non-null int64\n",
      "TOT_SALES         264836 non-null float64\n",
      "dtypes: float64(1), int64(6), object(1)\n",
      "memory usage: 16.2+ MB\n"
     ]
    }
   ],
   "source": [
    "tr_data = pd.read_excel(\"QVI_transaction_data.xlsx\")\n",
    "tr_data.info()"
   ]
  },
  {
   "cell_type": "markdown",
   "metadata": {},
   "source": [
    "### dtypes does not have a date format object"
   ]
  },
  {
   "cell_type": "markdown",
   "metadata": {},
   "source": [
    "## Merge the dataframes"
   ]
  },
  {
   "cell_type": "code",
   "execution_count": 5,
   "metadata": {},
   "outputs": [
    {
     "name": "stdout",
     "output_type": "stream",
     "text": [
      "   LYLTY_CARD_NBR              LIFESTAGE PREMIUM_CUSTOMER   DATE  STORE_NBR  \\\n",
      "0            1000  YOUNG SINGLES/COUPLES          Premium  43390          1   \n",
      "1            1002  YOUNG SINGLES/COUPLES       Mainstream  43359          1   \n",
      "2            1003         YOUNG FAMILIES           Budget  43531          1   \n",
      "3            1003         YOUNG FAMILIES           Budget  43532          1   \n",
      "4            1004  OLDER SINGLES/COUPLES       Mainstream  43406          1   \n",
      "\n",
      "   TXN_ID  PROD_NBR                               PROD_NAME  PROD_QTY  \\\n",
      "0       1         5  Natural Chip        Compny SeaSalt175g         2   \n",
      "1       2        58   Red Rock Deli Chikn&Garlic Aioli 150g         1   \n",
      "2       3        52   Grain Waves Sour    Cream&Chives 210G         1   \n",
      "3       4       106  Natural ChipCo      Hony Soy Chckn175g         1   \n",
      "4       5        96          WW Original Stacked Chips 160g         1   \n",
      "\n",
      "   TOT_SALES  \n",
      "0        6.0  \n",
      "1        2.7  \n",
      "2        3.6  \n",
      "3        3.0  \n",
      "4        1.9  \n"
     ]
    }
   ],
   "source": [
    "merged_data = pd.merge(pr_bhv, tr_data, on=\"LYLTY_CARD_NBR\", how=\"right\")\n",
    "print(merged_data.head())"
   ]
  },
  {
   "cell_type": "code",
   "execution_count": 6,
   "metadata": {},
   "outputs": [
    {
     "name": "stdout",
     "output_type": "stream",
     "text": [
      "<class 'pandas.core.frame.DataFrame'>\n",
      "Int64Index: 264836 entries, 0 to 264835\n",
      "Data columns (total 10 columns):\n",
      "LYLTY_CARD_NBR      264836 non-null int64\n",
      "LIFESTAGE           264836 non-null object\n",
      "PREMIUM_CUSTOMER    264836 non-null object\n",
      "DATE                264836 non-null int64\n",
      "STORE_NBR           264836 non-null int64\n",
      "TXN_ID              264836 non-null int64\n",
      "PROD_NBR            264836 non-null int64\n",
      "PROD_NAME           264836 non-null object\n",
      "PROD_QTY            264836 non-null int64\n",
      "TOT_SALES           264836 non-null float64\n",
      "dtypes: float64(1), int64(6), object(3)\n",
      "memory usage: 22.2+ MB\n"
     ]
    }
   ],
   "source": [
    "merged_data.info()"
   ]
  },
  {
   "cell_type": "markdown",
   "metadata": {},
   "source": [
    "## Fix the date column"
   ]
  },
  {
   "cell_type": "code",
   "execution_count": 7,
   "metadata": {},
   "outputs": [],
   "source": [
    "from datetime import date, timedelta\n",
    "start = date(1899,12,30)\n",
    "\n",
    "new_date_format = []\n",
    "\n",
    "for date in merged_data[\"DATE\"]:\n",
    "    delta = timedelta(date)\n",
    "    new_date_format.append(start + delta)\n",
    "    \n",
    "pd.Series(new_date_format)\n",
    "    \n",
    "merged_data[\"DATE\"] = pd.to_datetime(new_date_format)\n"
   ]
  },
  {
   "cell_type": "code",
   "execution_count": 8,
   "metadata": {},
   "outputs": [
    {
     "name": "stdout",
     "output_type": "stream",
     "text": [
      "datetime64[ns]\n"
     ]
    },
    {
     "data": {
      "text/plain": [
       "0   2018-10-17\n",
       "1   2018-09-16\n",
       "2   2019-03-07\n",
       "Name: DATE, dtype: datetime64[ns]"
      ]
     },
     "execution_count": 8,
     "metadata": {},
     "output_type": "execute_result"
    }
   ],
   "source": [
    "print(merged_data[\"DATE\"].dtype)\n",
    "merged_data[\"DATE\"].head(3)"
   ]
  },
  {
   "cell_type": "markdown",
   "metadata": {},
   "source": [
    "## Examine the product names"
   ]
  },
  {
   "cell_type": "code",
   "execution_count": 9,
   "metadata": {},
   "outputs": [
    {
     "name": "stdout",
     "output_type": "stream",
     "text": [
      "['Natural Chip        Compny SeaSalt175g'\n",
      " 'Red Rock Deli Chikn&Garlic Aioli 150g'\n",
      " 'Grain Waves Sour    Cream&Chives 210G'\n",
      " 'Natural ChipCo      Hony Soy Chckn175g']\n"
     ]
    }
   ],
   "source": [
    "unique_prod = merged_data[\"PROD_NAME\"].unique()\n",
    "print(unique_prod[0:4])"
   ]
  },
  {
   "cell_type": "markdown",
   "metadata": {},
   "source": [
    "### Breaking the string into individual components"
   ]
  },
  {
   "cell_type": "code",
   "execution_count": 10,
   "metadata": {},
   "outputs": [
    {
     "data": {
      "text/plain": [
       "0           [Natural, Chip, Compny, SeaSalt]\n",
       "1    [Red, Rock, Deli, Chikn, Garlic, Aioli]\n",
       "2        [Grain, Waves, Sour, Cream, Chives]\n",
       "3        [Natural, ChipCo, Hony, Soy, Chckn]\n",
       "Name: PROD_NAME, dtype: object"
      ]
     },
     "execution_count": 10,
     "metadata": {},
     "output_type": "execute_result"
    }
   ],
   "source": [
    "## Replacing non-word characters like &, / with empty space and remove the numbers\n",
    "split_prods = merged_data[\"PROD_NAME\"].str.replace(r'([0-9]+[gG])','').str.replace(r'[^\\w]', ' ').str.split()\n",
    "split_prods.head(4)"
   ]
  },
  {
   "cell_type": "code",
   "execution_count": 11,
   "metadata": {},
   "outputs": [
    {
     "data": {
      "text/plain": [
       "0           [Natural, Chip, Compny, SeaSalt]\n",
       "1    [Red, Rock, Deli, Chikn, Garlic, Aioli]\n",
       "2        [Grain, Waves, Sour, Cream, Chives]\n",
       "3        [Natural, ChipCo, Hony, Soy, Chckn]\n",
       "Name: PROD_NAME, dtype: object"
      ]
     },
     "execution_count": 11,
     "metadata": {},
     "output_type": "execute_result"
    }
   ],
   "source": [
    "split_prods.head(4)"
   ]
  },
  {
   "cell_type": "code",
   "execution_count": 12,
   "metadata": {},
   "outputs": [
    {
     "name": "stdout",
     "output_type": "stream",
     "text": [
      "Chips     49770\n",
      "Kettle    41288\n",
      "Smiths    28860\n",
      "Salt      27976\n",
      "dtype: int64\n"
     ]
    }
   ],
   "source": [
    "words_count = {}\n",
    "\n",
    "def words_countt(line):\n",
    "    for words in line:\n",
    "        if words not in words_count:\n",
    "            words_count[words] = 1\n",
    "        else:\n",
    "            words_count[words] += 1\n",
    "\n",
    "split_prods.apply(lambda line: words_countt(line))\n",
    "print(pd.Series(words_count).sort_values(ascending=False).head(4))\n"
   ]
  },
  {
   "cell_type": "markdown",
   "metadata": {},
   "source": [
    "## Remove salsa products"
   ]
  },
  {
   "cell_type": "code",
   "execution_count": 13,
   "metadata": {},
   "outputs": [
    {
     "name": "stdout",
     "output_type": "stream",
     "text": [
      "264836\n",
      "\n",
      "-18094\n",
      "<class 'pandas.core.frame.DataFrame'>\n",
      "Int64Index: 246742 entries, 0 to 264835\n",
      "Data columns (total 10 columns):\n",
      "LYLTY_CARD_NBR      246742 non-null int64\n",
      "LIFESTAGE           246742 non-null object\n",
      "PREMIUM_CUSTOMER    246742 non-null object\n",
      "DATE                246742 non-null datetime64[ns]\n",
      "STORE_NBR           246742 non-null int64\n",
      "TXN_ID              246742 non-null int64\n",
      "PROD_NBR            246742 non-null int64\n",
      "PROD_NAME           246742 non-null object\n",
      "PROD_QTY            246742 non-null int64\n",
      "TOT_SALES           246742 non-null float64\n",
      "dtypes: datetime64[ns](1), float64(1), int64(5), object(3)\n",
      "memory usage: 20.7+ MB\n"
     ]
    }
   ],
   "source": [
    "s_mask = merged_data[\"PROD_NAME\"].str.contains(r\"[sS]alsa\")\n",
    "\n",
    "print(str(len(s_mask)) + \"\\n\")\n",
    "merged_data = merged_data[~s_mask]\n",
    "print(len(merged_data)-len(s_mask))\n",
    "\n",
    "merged_data.info()"
   ]
  },
  {
   "cell_type": "markdown",
   "metadata": {},
   "source": [
    "## Anomalies?"
   ]
  },
  {
   "cell_type": "code",
   "execution_count": 14,
   "metadata": {},
   "outputs": [
    {
     "data": {
      "text/plain": [
       "(0.8, 40.8]       246740\n",
       "(160.2, 200.0]         2\n",
       "(120.4, 160.2]         0\n",
       "(80.6, 120.4]          0\n",
       "(40.8, 80.6]           0\n",
       "Name: PROD_QTY, dtype: int64"
      ]
     },
     "execution_count": 14,
     "metadata": {},
     "output_type": "execute_result"
    }
   ],
   "source": [
    "merged_data[\"PROD_QTY\"].value_counts(bins=5)"
   ]
  },
  {
   "cell_type": "code",
   "execution_count": 15,
   "metadata": {},
   "outputs": [
    {
     "data": {
      "text/html": [
       "<div>\n",
       "<style scoped>\n",
       "    .dataframe tbody tr th:only-of-type {\n",
       "        vertical-align: middle;\n",
       "    }\n",
       "\n",
       "    .dataframe tbody tr th {\n",
       "        vertical-align: top;\n",
       "    }\n",
       "\n",
       "    .dataframe thead th {\n",
       "        text-align: right;\n",
       "    }\n",
       "</style>\n",
       "<table border=\"1\" class=\"dataframe\">\n",
       "  <thead>\n",
       "    <tr style=\"text-align: right;\">\n",
       "      <th></th>\n",
       "      <th>LYLTY_CARD_NBR</th>\n",
       "      <th>LIFESTAGE</th>\n",
       "      <th>PREMIUM_CUSTOMER</th>\n",
       "      <th>DATE</th>\n",
       "      <th>STORE_NBR</th>\n",
       "      <th>TXN_ID</th>\n",
       "      <th>PROD_NBR</th>\n",
       "      <th>PROD_NAME</th>\n",
       "      <th>PROD_QTY</th>\n",
       "      <th>TOT_SALES</th>\n",
       "    </tr>\n",
       "  </thead>\n",
       "  <tbody>\n",
       "    <tr>\n",
       "      <th>221625</th>\n",
       "      <td>226000</td>\n",
       "      <td>OLDER FAMILIES</td>\n",
       "      <td>Premium</td>\n",
       "      <td>2018-08-19</td>\n",
       "      <td>226</td>\n",
       "      <td>226201</td>\n",
       "      <td>4</td>\n",
       "      <td>Dorito Corn Chp     Supreme 380g</td>\n",
       "      <td>200</td>\n",
       "      <td>650.0</td>\n",
       "    </tr>\n",
       "    <tr>\n",
       "      <th>221626</th>\n",
       "      <td>226000</td>\n",
       "      <td>OLDER FAMILIES</td>\n",
       "      <td>Premium</td>\n",
       "      <td>2019-05-20</td>\n",
       "      <td>226</td>\n",
       "      <td>226210</td>\n",
       "      <td>4</td>\n",
       "      <td>Dorito Corn Chp     Supreme 380g</td>\n",
       "      <td>200</td>\n",
       "      <td>650.0</td>\n",
       "    </tr>\n",
       "    <tr>\n",
       "      <th>218544</th>\n",
       "      <td>223025</td>\n",
       "      <td>YOUNG FAMILIES</td>\n",
       "      <td>Mainstream</td>\n",
       "      <td>2018-08-15</td>\n",
       "      <td>223</td>\n",
       "      <td>223075</td>\n",
       "      <td>8</td>\n",
       "      <td>Smiths Crinkle Cut  Chips Original 170g</td>\n",
       "      <td>5</td>\n",
       "      <td>14.5</td>\n",
       "    </tr>\n",
       "  </tbody>\n",
       "</table>\n",
       "</div>"
      ],
      "text/plain": [
       "        LYLTY_CARD_NBR       LIFESTAGE PREMIUM_CUSTOMER       DATE  STORE_NBR  \\\n",
       "221625          226000  OLDER FAMILIES          Premium 2018-08-19        226   \n",
       "221626          226000  OLDER FAMILIES          Premium 2019-05-20        226   \n",
       "218544          223025  YOUNG FAMILIES       Mainstream 2018-08-15        223   \n",
       "\n",
       "        TXN_ID  PROD_NBR                                PROD_NAME  PROD_QTY  \\\n",
       "221625  226201         4         Dorito Corn Chp     Supreme 380g       200   \n",
       "221626  226210         4         Dorito Corn Chp     Supreme 380g       200   \n",
       "218544  223075         8  Smiths Crinkle Cut  Chips Original 170g         5   \n",
       "\n",
       "        TOT_SALES  \n",
       "221625      650.0  \n",
       "221626      650.0  \n",
       "218544       14.5  "
      ]
     },
     "execution_count": 15,
     "metadata": {},
     "output_type": "execute_result"
    }
   ],
   "source": [
    "merged_data.sort_values(by=\"PROD_QTY\", ascending=False).head(3)\n"
   ]
  },
  {
   "cell_type": "markdown",
   "metadata": {},
   "source": [
    "### Transaction ID 226201, 226210 needs to be removed as most of the data falls in the bin (0.8, 40.8]       246738 range"
   ]
  },
  {
   "cell_type": "code",
   "execution_count": 16,
   "metadata": {},
   "outputs": [],
   "source": [
    "merged_data.drop(labels=tr_data[tr_data[\"LYLTY_CARD_NBR\"] == 226000].index, inplace=True)"
   ]
  },
  {
   "cell_type": "markdown",
   "metadata": {},
   "source": [
    "## Dates missing?"
   ]
  },
  {
   "cell_type": "code",
   "execution_count": 17,
   "metadata": {},
   "outputs": [
    {
     "data": {
      "text/plain": [
       "count                  246740\n",
       "unique                    364\n",
       "top       2018-12-24 00:00:00\n",
       "freq                      865\n",
       "first     2018-07-01 00:00:00\n",
       "last      2019-06-30 00:00:00\n",
       "Name: DATE, dtype: object"
      ]
     },
     "execution_count": 17,
     "metadata": {},
     "output_type": "execute_result"
    }
   ],
   "source": [
    "merged_data[\"DATE\"].describe()"
   ]
  },
  {
   "cell_type": "markdown",
   "metadata": {},
   "source": [
    "### A day's transaction is missing. Does this value need to be replaced?"
   ]
  },
  {
   "cell_type": "markdown",
   "metadata": {},
   "source": [
    "#### Create a DatetimeIndex for all the dates that fall in the year range 2018-07-01 to 2019-06-30"
   ]
  },
  {
   "cell_type": "code",
   "execution_count": 18,
   "metadata": {},
   "outputs": [
    {
     "data": {
      "text/plain": [
       "DatetimeIndex(['2018-07-01', '2018-07-02', '2018-07-03', '2018-07-04',\n",
       "               '2018-07-05', '2018-07-06', '2018-07-07', '2018-07-08',\n",
       "               '2018-07-09', '2018-07-10',\n",
       "               ...\n",
       "               '2019-06-21', '2019-06-22', '2019-06-23', '2019-06-24',\n",
       "               '2019-06-25', '2019-06-26', '2019-06-27', '2019-06-28',\n",
       "               '2019-06-29', '2019-06-30'],\n",
       "              dtype='datetime64[ns]', length=365, freq='D')"
      ]
     },
     "execution_count": 18,
     "metadata": {},
     "output_type": "execute_result"
    }
   ],
   "source": [
    "dt_index= pd.date_range(start=merged_data[\"DATE\"].min(), end=merged_data[\"DATE\"].max())\n",
    "dt_index"
   ]
  },
  {
   "cell_type": "markdown",
   "metadata": {},
   "source": [
    "### Do a left merge to check for the missing date"
   ]
  },
  {
   "cell_type": "code",
   "execution_count": 19,
   "metadata": {},
   "outputs": [
    {
     "data": {
      "text/html": [
       "<div>\n",
       "<style scoped>\n",
       "    .dataframe tbody tr th:only-of-type {\n",
       "        vertical-align: middle;\n",
       "    }\n",
       "\n",
       "    .dataframe tbody tr th {\n",
       "        vertical-align: top;\n",
       "    }\n",
       "\n",
       "    .dataframe thead th {\n",
       "        text-align: right;\n",
       "    }\n",
       "</style>\n",
       "<table border=\"1\" class=\"dataframe\">\n",
       "  <thead>\n",
       "    <tr style=\"text-align: right;\">\n",
       "      <th></th>\n",
       "      <th>0</th>\n",
       "    </tr>\n",
       "  </thead>\n",
       "  <tbody>\n",
       "    <tr>\n",
       "      <th>2018-07-01</th>\n",
       "      <td>2018-07-01</td>\n",
       "    </tr>\n",
       "    <tr>\n",
       "      <th>2018-07-02</th>\n",
       "      <td>2018-07-02</td>\n",
       "    </tr>\n",
       "    <tr>\n",
       "      <th>2018-07-03</th>\n",
       "      <td>2018-07-03</td>\n",
       "    </tr>\n",
       "  </tbody>\n",
       "</table>\n",
       "</div>"
      ],
      "text/plain": [
       "                    0\n",
       "2018-07-01 2018-07-01\n",
       "2018-07-02 2018-07-02\n",
       "2018-07-03 2018-07-03"
      ]
     },
     "execution_count": 19,
     "metadata": {},
     "output_type": "execute_result"
    }
   ],
   "source": [
    "dt_index_df = dt_index.to_frame(index=True)\n",
    "dt_index_df.head(3)\n"
   ]
  },
  {
   "cell_type": "code",
   "execution_count": 20,
   "metadata": {},
   "outputs": [
    {
     "name": "stdout",
     "output_type": "stream",
     "text": [
      "<class 'pandas.core.frame.DataFrame'>\n",
      "DatetimeIndex: 365 entries, 2018-07-01 to 2019-06-30\n",
      "Freq: D\n",
      "Data columns (total 1 columns):\n",
      "0    365 non-null datetime64[ns]\n",
      "dtypes: datetime64[ns](1)\n",
      "memory usage: 5.7 KB\n"
     ]
    }
   ],
   "source": [
    "dt_index_df.info()"
   ]
  },
  {
   "cell_type": "code",
   "execution_count": 21,
   "metadata": {},
   "outputs": [
    {
     "data": {
      "text/html": [
       "<div>\n",
       "<style scoped>\n",
       "    .dataframe tbody tr th:only-of-type {\n",
       "        vertical-align: middle;\n",
       "    }\n",
       "\n",
       "    .dataframe tbody tr th {\n",
       "        vertical-align: top;\n",
       "    }\n",
       "\n",
       "    .dataframe thead th {\n",
       "        text-align: right;\n",
       "    }\n",
       "</style>\n",
       "<table border=\"1\" class=\"dataframe\">\n",
       "  <thead>\n",
       "    <tr style=\"text-align: right;\">\n",
       "      <th></th>\n",
       "      <th>LYLTY_CARD_NBR</th>\n",
       "      <th>LIFESTAGE</th>\n",
       "      <th>PREMIUM_CUSTOMER</th>\n",
       "      <th>DATE</th>\n",
       "      <th>STORE_NBR</th>\n",
       "      <th>TXN_ID</th>\n",
       "      <th>PROD_NBR</th>\n",
       "      <th>PROD_NAME</th>\n",
       "      <th>PROD_QTY</th>\n",
       "      <th>TOT_SALES</th>\n",
       "    </tr>\n",
       "  </thead>\n",
       "  <tbody>\n",
       "    <tr>\n",
       "      <th>0</th>\n",
       "      <td>1000</td>\n",
       "      <td>YOUNG SINGLES/COUPLES</td>\n",
       "      <td>Premium</td>\n",
       "      <td>2018-10-17</td>\n",
       "      <td>1</td>\n",
       "      <td>1</td>\n",
       "      <td>5</td>\n",
       "      <td>Natural Chip        Compny SeaSalt175g</td>\n",
       "      <td>2</td>\n",
       "      <td>6.0</td>\n",
       "    </tr>\n",
       "    <tr>\n",
       "      <th>1</th>\n",
       "      <td>1002</td>\n",
       "      <td>YOUNG SINGLES/COUPLES</td>\n",
       "      <td>Mainstream</td>\n",
       "      <td>2018-09-16</td>\n",
       "      <td>1</td>\n",
       "      <td>2</td>\n",
       "      <td>58</td>\n",
       "      <td>Red Rock Deli Chikn&amp;Garlic Aioli 150g</td>\n",
       "      <td>1</td>\n",
       "      <td>2.7</td>\n",
       "    </tr>\n",
       "    <tr>\n",
       "      <th>2</th>\n",
       "      <td>1003</td>\n",
       "      <td>YOUNG FAMILIES</td>\n",
       "      <td>Budget</td>\n",
       "      <td>2019-03-07</td>\n",
       "      <td>1</td>\n",
       "      <td>3</td>\n",
       "      <td>52</td>\n",
       "      <td>Grain Waves Sour    Cream&amp;Chives 210G</td>\n",
       "      <td>1</td>\n",
       "      <td>3.6</td>\n",
       "    </tr>\n",
       "  </tbody>\n",
       "</table>\n",
       "</div>"
      ],
      "text/plain": [
       "   LYLTY_CARD_NBR              LIFESTAGE PREMIUM_CUSTOMER       DATE  \\\n",
       "0            1000  YOUNG SINGLES/COUPLES          Premium 2018-10-17   \n",
       "1            1002  YOUNG SINGLES/COUPLES       Mainstream 2018-09-16   \n",
       "2            1003         YOUNG FAMILIES           Budget 2019-03-07   \n",
       "\n",
       "   STORE_NBR  TXN_ID  PROD_NBR                               PROD_NAME  \\\n",
       "0          1       1         5  Natural Chip        Compny SeaSalt175g   \n",
       "1          1       2        58   Red Rock Deli Chikn&Garlic Aioli 150g   \n",
       "2          1       3        52   Grain Waves Sour    Cream&Chives 210G   \n",
       "\n",
       "   PROD_QTY  TOT_SALES  \n",
       "0         2        6.0  \n",
       "1         1        2.7  \n",
       "2         1        3.6  "
      ]
     },
     "execution_count": 21,
     "metadata": {},
     "output_type": "execute_result"
    }
   ],
   "source": [
    "merged_data.head(3)"
   ]
  },
  {
   "cell_type": "code",
   "execution_count": 22,
   "metadata": {},
   "outputs": [
    {
     "name": "stdout",
     "output_type": "stream",
     "text": [
      "<class 'pandas.core.frame.DataFrame'>\n",
      "Index: 247105 entries, 2018-07-01 00:00:00 to 264835\n",
      "Data columns (total 11 columns):\n",
      "0                   365 non-null datetime64[ns]\n",
      "LYLTY_CARD_NBR      246740 non-null float64\n",
      "LIFESTAGE           246740 non-null object\n",
      "PREMIUM_CUSTOMER    246740 non-null object\n",
      "DATE                246740 non-null datetime64[ns]\n",
      "STORE_NBR           246740 non-null float64\n",
      "TXN_ID              246740 non-null float64\n",
      "PROD_NBR            246740 non-null float64\n",
      "PROD_NAME           246740 non-null object\n",
      "PROD_QTY            246740 non-null float64\n",
      "TOT_SALES           246740 non-null float64\n",
      "dtypes: datetime64[ns](2), float64(6), object(3)\n",
      "memory usage: 22.6+ MB\n"
     ]
    }
   ],
   "source": [
    "merge=pd.merge(dt_index_df, merged_data, how='outer', left_index=True, right_index=True)\n",
    "merge.info()"
   ]
  },
  {
   "cell_type": "code",
   "execution_count": 23,
   "metadata": {},
   "outputs": [
    {
     "data": {
      "image/png": "[encoded data removed]",
      "text/plain": [
       "<matplotlib.figure.Figure at 0x1b832ad5d68>"
      ]
     },
     "metadata": {},
     "output_type": "display_data"
    }
   ],
   "source": [
    "trans_by_date = merge[\"DATE\"].value_counts()\n",
    "dec = trans_by_date[(trans_by_date.index >= pd.datetime(2018,12,1)) & (trans_by_date.index < pd.datetime(2019,1,1))].sort_index()\n",
    "dec.index = dec.index.strftime('%d')\n",
    "ax = dec.plot(figsize=(15,3))\n",
    "ax.set_xticks(np.arange(len(dec)))\n",
    "ax.set_xticklabels(dec.index)\n",
    "plt.title(\"2018 December Sales\")\n",
    "plt.savefig(\"2018 December Sales.png\", bbox_inches=\"tight\")\n",
    "plt.show()"
   ]
  },
  {
   "cell_type": "code",
   "execution_count": 24,
   "metadata": {},
   "outputs": [
    {
     "data": {
      "text/plain": [
       "0    Natural Chip        Compny SeaSalt175g\n",
       "1     Red Rock Deli Chikn&Garlic Aioli 150g\n",
       "2        Grain Waves Sour    Cream&Chives g\n",
       "3    Natural ChipCo      Hony Soy Chckn175g\n",
       "Name: PROD_NAME, dtype: object"
      ]
     },
     "execution_count": 24,
     "metadata": {},
     "output_type": "execute_result"
    }
   ],
   "source": [
    "t = merged_data[\"PROD_NAME\"].str.replace(r'[0-9]+(G)','g')\n",
    "t.head(4)"
   ]
  },
  {
   "cell_type": "code",
   "execution_count": 25,
   "metadata": {},
   "outputs": [
    {
     "name": "stdout",
     "output_type": "stream",
     "text": [
      "count    246740.000000\n",
      "mean        175.585284\n",
      "std          59.434946\n",
      "min          70.000000\n",
      "25%         150.000000\n",
      "50%         170.000000\n",
      "75%         175.000000\n",
      "max         380.000000\n",
      "Name: 0, dtype: float64\n"
     ]
    },
    {
     "data": {
      "text/plain": [
       "<matplotlib.axes._subplots.AxesSubplot at 0x1b8361ea710>"
      ]
     },
     "execution_count": 25,
     "metadata": {},
     "output_type": "execute_result"
    },
    {
     "data": {
      "image/png": "[encoded data removed]",
      "text/plain": [
       "<matplotlib.figure.Figure at 0x1b832ad53c8>"
      ]
     },
     "metadata": {},
     "output_type": "display_data"
    }
   ],
   "source": [
    "pack_sizes = merged_data[\"PROD_NAME\"].str.extract(r'([0-9]+[gG])')[0].str.replace(\"[Gg]\",\"\").astype(float)\n",
    "print(pack_sizes.describe())\n",
    "pack_sizes.hist()"
   ]
  },
  {
   "cell_type": "markdown",
   "metadata": {},
   "source": [
    "Product size reasonable with highest transaction frequency in mid-sized pack(170G). Smallest size is 70g, and largest size is 380g."
   ]
  },
  {
   "cell_type": "markdown",
   "metadata": {},
   "source": [
    "### Create a new column to find most popular item"
   ]
  },
  {
   "cell_type": "code",
   "execution_count": 26,
   "metadata": {},
   "outputs": [
    {
     "data": {
      "text/plain": [
       "Kettle        41286\n",
       "Smiths        27390\n",
       "Pringles      25102\n",
       "Doritos       22041\n",
       "Thins         14075\n",
       "RRD           11894\n",
       "Infuzions     11057\n",
       "WW            10320\n",
       "Cobs           9693\n",
       "Tostitos       9471\n",
       "Twisties       9454\n",
       "Tyrrells       6442\n",
       "Grain          6272\n",
       "Natural        6050\n",
       "Cheezels       4603\n",
       "CCs            4551\n",
       "Red            4427\n",
       "Dorito         3185\n",
       "Infzns         3144\n",
       "Smith          2963\n",
       "Cheetos        2927\n",
       "Snbts          1576\n",
       "Burger         1564\n",
       "Woolworths     1516\n",
       "GrnWves        1468\n",
       "Sunbites       1432\n",
       "NCC            1419\n",
       "French         1418\n",
       "Name: PROD_NAME, dtype: int64"
      ]
     },
     "execution_count": 26,
     "metadata": {},
     "output_type": "execute_result"
    }
   ],
   "source": [
    "merged_data[\"PROD_NAME\"].str.split().str[0].value_counts()"
   ]
  },
  {
   "cell_type": "markdown",
   "metadata": {},
   "source": [
    "#### Some brands are written in more than 1 way: Dorito and Doritos, Grain and GrnWves, Infuzions and Infzns, Natural and NCC, Red and RRD, Smith and Smiths, Snbts and Sunbites, WW and Woolworths"
   ]
  },
  {
   "cell_type": "code",
   "execution_count": 27,
   "metadata": {},
   "outputs": [
    {
     "data": {
      "text/plain": [
       "0    Natural\n",
       "1        Red\n",
       "2      Grain\n",
       "3    Natural\n",
       "Name: Cleaned_Brand_Names, dtype: object"
      ]
     },
     "execution_count": 27,
     "metadata": {},
     "output_type": "execute_result"
    }
   ],
   "source": [
    "merged_data[\"Cleaned_Brand_Names\"] = merged_data[\"PROD_NAME\"].str.split().str[0]\n",
    "merged_data[\"Cleaned_Brand_Names\"].head(4)"
   ]
  },
  {
   "cell_type": "code",
   "execution_count": 28,
   "metadata": {},
   "outputs": [],
   "source": [
    "def clean_brands(line):\n",
    "    brand = line[\"Cleaned_Brand_Names\"]\n",
    "    if brand == \"Dorito\":\n",
    "        return \"Doritos\"\n",
    "    elif brand == \"GrnWves\" or brand == \"Grain\":\n",
    "        return \"Grain Waves\"\n",
    "    elif brand == \"Infzns\":\n",
    "        return \"Infuzions\"\n",
    "    elif brand == \"Natural\" or brand == \"NCC\":\n",
    "        return \"Natural Chip Co\"\n",
    "    elif brand == \"Red\":\n",
    "        return \"RRD\"\n",
    "    elif brand == \"Smith\":\n",
    "        return \"Smiths\"\n",
    "    elif brand == \"Snbts\":\n",
    "        return \"Sunbites\"\n",
    "    elif brand == \"WW\":\n",
    "        return \"Woolworths\"\n",
    "    else:\n",
    "        return brand    "
   ]
  },
  {
   "cell_type": "code",
   "execution_count": 29,
   "metadata": {},
   "outputs": [],
   "source": [
    "merged_data[\"Cleaned_Brand_Names\"] = merged_data.apply(lambda line: clean_brands(line), axis=1)\n"
   ]
  },
  {
   "cell_type": "code",
   "execution_count": 30,
   "metadata": {},
   "outputs": [
    {
     "data": {
      "text/plain": [
       "0    Natural Chip Co\n",
       "1                RRD\n",
       "2        Grain Waves\n",
       "3    Natural Chip Co\n",
       "Name: Cleaned_Brand_Names, dtype: object"
      ]
     },
     "execution_count": 30,
     "metadata": {},
     "output_type": "execute_result"
    }
   ],
   "source": [
    "merged_data[\"Cleaned_Brand_Names\"].head(4)"
   ]
  },
  {
   "cell_type": "code",
   "execution_count": 31,
   "metadata": {},
   "outputs": [
    {
     "data": {
      "text/plain": [
       "<matplotlib.axes._subplots.AxesSubplot at 0x1b844417550>"
      ]
     },
     "execution_count": 31,
     "metadata": {},
     "output_type": "execute_result"
    },
    {
     "data": {
      "image/png": "[encoded data removed]",
      "text/plain": [
       "<matplotlib.figure.Figure at 0x1b8444190f0>"
      ]
     },
     "metadata": {},
     "output_type": "display_data"
    }
   ],
   "source": [
    "merged_data[\"Cleaned_Brand_Names\"].value_counts(ascending=True).plot.barh(figsize=(10,5))\n"
   ]
  },
  {
   "cell_type": "markdown",
   "metadata": {},
   "source": [
    "### Kettle, Smith, Doritos and Pringles are the top 4 sold chips"
   ]
  },
  {
   "cell_type": "code",
   "execution_count": 32,
   "metadata": {},
   "outputs": [
    {
     "name": "stdout",
     "output_type": "stream",
     "text": [
      "OLDER SINGLES/COUPLES     50791\n",
      "RETIREES                  46431\n",
      "OLDER FAMILIES            45160\n",
      "YOUNG FAMILIES            40494\n",
      "YOUNG SINGLES/COUPLES     33969\n",
      "MIDAGE SINGLES/COUPLES    23398\n",
      "NEW FAMILIES               6497\n",
      "Name: LIFESTAGE, dtype: int64 \n",
      "\n",
      "Mainstream    95043\n",
      "Budget        86760\n",
      "Premium       64937\n",
      "Name: PREMIUM_CUSTOMER, dtype: int64\n"
     ]
    }
   ],
   "source": [
    "print(merged_data[\"LIFESTAGE\"].value_counts(), \"\\n\")\n",
    "print(merged_data[\"PREMIUM_CUSTOMER\"].value_counts())"
   ]
  },
  {
   "cell_type": "code",
   "execution_count": 33,
   "metadata": {},
   "outputs": [
    {
     "data": {
      "text/html": [
       "<div>\n",
       "<style scoped>\n",
       "    .dataframe tbody tr th:only-of-type {\n",
       "        vertical-align: middle;\n",
       "    }\n",
       "\n",
       "    .dataframe tbody tr th {\n",
       "        vertical-align: top;\n",
       "    }\n",
       "\n",
       "    .dataframe thead th {\n",
       "        text-align: right;\n",
       "    }\n",
       "</style>\n",
       "<table border=\"1\" class=\"dataframe\">\n",
       "  <thead>\n",
       "    <tr style=\"text-align: right;\">\n",
       "      <th></th>\n",
       "      <th></th>\n",
       "      <th>sum</th>\n",
       "      <th>mean</th>\n",
       "    </tr>\n",
       "    <tr>\n",
       "      <th>LIFESTAGE</th>\n",
       "      <th>PREMIUM_CUSTOMER</th>\n",
       "      <th></th>\n",
       "      <th></th>\n",
       "    </tr>\n",
       "  </thead>\n",
       "  <tbody>\n",
       "    <tr>\n",
       "      <th>OLDER FAMILIES</th>\n",
       "      <th>Budget</th>\n",
       "      <td>156863.75</td>\n",
       "      <td>7.291241</td>\n",
       "    </tr>\n",
       "    <tr>\n",
       "      <th>YOUNG SINGLES/COUPLES</th>\n",
       "      <th>Mainstream</th>\n",
       "      <td>147582.20</td>\n",
       "      <td>7.551279</td>\n",
       "    </tr>\n",
       "    <tr>\n",
       "      <th>RETIREES</th>\n",
       "      <th>Mainstream</th>\n",
       "      <td>145168.95</td>\n",
       "      <td>7.269352</td>\n",
       "    </tr>\n",
       "    <tr>\n",
       "      <th>YOUNG FAMILIES</th>\n",
       "      <th>Budget</th>\n",
       "      <td>129717.95</td>\n",
       "      <td>7.302705</td>\n",
       "    </tr>\n",
       "    <tr>\n",
       "      <th rowspan=\"3\" valign=\"top\">OLDER SINGLES/COUPLES</th>\n",
       "      <th>Budget</th>\n",
       "      <td>127813.60</td>\n",
       "      <td>7.444007</td>\n",
       "    </tr>\n",
       "    <tr>\n",
       "      <th>Mainstream</th>\n",
       "      <td>124648.50</td>\n",
       "      <td>7.306049</td>\n",
       "    </tr>\n",
       "    <tr>\n",
       "      <th>Premium</th>\n",
       "      <td>123537.55</td>\n",
       "      <td>7.459997</td>\n",
       "    </tr>\n",
       "    <tr>\n",
       "      <th>RETIREES</th>\n",
       "      <th>Budget</th>\n",
       "      <td>105916.30</td>\n",
       "      <td>7.445786</td>\n",
       "    </tr>\n",
       "    <tr>\n",
       "      <th>OLDER FAMILIES</th>\n",
       "      <th>Mainstream</th>\n",
       "      <td>96413.55</td>\n",
       "      <td>7.281440</td>\n",
       "    </tr>\n",
       "    <tr>\n",
       "      <th>RETIREES</th>\n",
       "      <th>Premium</th>\n",
       "      <td>91296.65</td>\n",
       "      <td>7.461315</td>\n",
       "    </tr>\n",
       "    <tr>\n",
       "      <th>YOUNG FAMILIES</th>\n",
       "      <th>Mainstream</th>\n",
       "      <td>86338.25</td>\n",
       "      <td>7.226772</td>\n",
       "    </tr>\n",
       "    <tr>\n",
       "      <th>MIDAGE SINGLES/COUPLES</th>\n",
       "      <th>Mainstream</th>\n",
       "      <td>84734.25</td>\n",
       "      <td>7.637156</td>\n",
       "    </tr>\n",
       "    <tr>\n",
       "      <th>YOUNG FAMILIES</th>\n",
       "      <th>Premium</th>\n",
       "      <td>78571.70</td>\n",
       "      <td>7.285951</td>\n",
       "    </tr>\n",
       "    <tr>\n",
       "      <th>OLDER FAMILIES</th>\n",
       "      <th>Premium</th>\n",
       "      <td>76542.60</td>\n",
       "      <td>7.356329</td>\n",
       "    </tr>\n",
       "    <tr>\n",
       "      <th>YOUNG SINGLES/COUPLES</th>\n",
       "      <th>Budget</th>\n",
       "      <td>57122.10</td>\n",
       "      <td>6.663023</td>\n",
       "    </tr>\n",
       "    <tr>\n",
       "      <th>MIDAGE SINGLES/COUPLES</th>\n",
       "      <th>Premium</th>\n",
       "      <td>54443.85</td>\n",
       "      <td>7.152371</td>\n",
       "    </tr>\n",
       "    <tr>\n",
       "      <th>YOUNG SINGLES/COUPLES</th>\n",
       "      <th>Premium</th>\n",
       "      <td>39052.30</td>\n",
       "      <td>6.673325</td>\n",
       "    </tr>\n",
       "    <tr>\n",
       "      <th>MIDAGE SINGLES/COUPLES</th>\n",
       "      <th>Budget</th>\n",
       "      <td>33345.70</td>\n",
       "      <td>7.108442</td>\n",
       "    </tr>\n",
       "    <tr>\n",
       "      <th rowspan=\"3\" valign=\"top\">NEW FAMILIES</th>\n",
       "      <th>Budget</th>\n",
       "      <td>20607.45</td>\n",
       "      <td>7.297256</td>\n",
       "    </tr>\n",
       "    <tr>\n",
       "      <th>Mainstream</th>\n",
       "      <td>15979.70</td>\n",
       "      <td>7.313364</td>\n",
       "    </tr>\n",
       "    <tr>\n",
       "      <th>Premium</th>\n",
       "      <td>10760.80</td>\n",
       "      <td>7.231720</td>\n",
       "    </tr>\n",
       "  </tbody>\n",
       "</table>\n",
       "</div>"
      ],
      "text/plain": [
       "                                               sum      mean\n",
       "LIFESTAGE              PREMIUM_CUSTOMER                     \n",
       "OLDER FAMILIES         Budget            156863.75  7.291241\n",
       "YOUNG SINGLES/COUPLES  Mainstream        147582.20  7.551279\n",
       "RETIREES               Mainstream        145168.95  7.269352\n",
       "YOUNG FAMILIES         Budget            129717.95  7.302705\n",
       "OLDER SINGLES/COUPLES  Budget            127813.60  7.444007\n",
       "                       Mainstream        124648.50  7.306049\n",
       "                       Premium           123537.55  7.459997\n",
       "RETIREES               Budget            105916.30  7.445786\n",
       "OLDER FAMILIES         Mainstream         96413.55  7.281440\n",
       "RETIREES               Premium            91296.65  7.461315\n",
       "YOUNG FAMILIES         Mainstream         86338.25  7.226772\n",
       "MIDAGE SINGLES/COUPLES Mainstream         84734.25  7.637156\n",
       "YOUNG FAMILIES         Premium            78571.70  7.285951\n",
       "OLDER FAMILIES         Premium            76542.60  7.356329\n",
       "YOUNG SINGLES/COUPLES  Budget             57122.10  6.663023\n",
       "MIDAGE SINGLES/COUPLES Premium            54443.85  7.152371\n",
       "YOUNG SINGLES/COUPLES  Premium            39052.30  6.673325\n",
       "MIDAGE SINGLES/COUPLES Budget             33345.70  7.108442\n",
       "NEW FAMILIES           Budget             20607.45  7.297256\n",
       "                       Mainstream         15979.70  7.313364\n",
       "                       Premium            10760.80  7.231720"
      ]
     },
     "execution_count": 33,
     "metadata": {},
     "output_type": "execute_result"
    }
   ],
   "source": [
    "sales_per_group = merged_data.groupby([\"LIFESTAGE\", \"PREMIUM_CUSTOMER\"])[\"TOT_SALES\"].agg([\"sum\", \"mean\"])\n",
    "sales_per_group.head(4)\n",
    "sales_per_group.sort_values(ascending=False, by=\"sum\")\n"
   ]
  },
  {
   "cell_type": "code",
   "execution_count": 34,
   "metadata": {},
   "outputs": [
    {
     "data": {
      "text/plain": [
       "<matplotlib.axes._subplots.AxesSubplot at 0x1b8443b8d68>"
      ]
     },
     "execution_count": 34,
     "metadata": {},
     "output_type": "execute_result"
    },
    {
     "data": {
      "image/png": "[encoded data removed]",
      "text/plain": [
       "<matplotlib.figure.Figure at 0x1b8443b9240>"
      ]
     },
     "metadata": {},
     "output_type": "display_data"
    }
   ],
   "source": [
    "sales_per_group[\"sum\"].sort_values().plot.barh(figsize=(12,12))"
   ]
  },
  {
   "cell_type": "code",
   "execution_count": 35,
   "metadata": {},
   "outputs": [
    {
     "data": {
      "image/png": "[encoded data removed]",
      "text/plain": [
       "<matplotlib.figure.Figure at 0x1b84434a128>"
      ]
     },
     "metadata": {},
     "output_type": "display_data"
    }
   ],
   "source": [
    "# Values of each group\n",
    "\n",
    "bars1 = sales_per_group[sales_per_group.index.get_level_values(\"PREMIUM_CUSTOMER\") == \"Budget\"][\"sum\"]\n",
    "bars2 = sales_per_group[sales_per_group.index.get_level_values(\"PREMIUM_CUSTOMER\") == \"Mainstream\"][\"sum\"]\n",
    "bars3 = sales_per_group[sales_per_group.index.get_level_values(\"PREMIUM_CUSTOMER\") == \"Premium\"][\"sum\"]\n",
    " \n",
    "bars1_text = (bars1 / sum(sales_per_group[\"sum\"])).apply(\"{:.1%}\".format)\n",
    "bars2_text = (bars2 / sum(sales_per_group[\"sum\"])).apply(\"{:.1%}\".format)\n",
    "bars3_text = (bars3 / sum(sales_per_group[\"sum\"])).apply(\"{:.1%}\".format)\n",
    " \n",
    "# Names of group and bar width\n",
    "names = sales_per_group.index.get_level_values(\"LIFESTAGE\").unique()\n",
    "\n",
    "# The position of the bars on the x-axis\n",
    "r = np.arange(len(names))\n",
    "plt.figure(figsize=(13,5)) \n",
    "\n",
    "# Create brown bars\n",
    "budget_bar = plt.barh(r, bars1, edgecolor='grey', height=1, label=\"Budget\")\n",
    "# Create green bars (middle), on top of the firs ones\n",
    "mains_bar = plt.barh(r, bars2, left=bars1, edgecolor='grey', height=1, label=\"Mainstream\")\n",
    "# Create green bars (top)\n",
    "prem_bar = plt.barh(r, bars3, left=np.add(bars1, bars2), edgecolor='grey', height=1, label=\"Premium\")\n",
    "for i in range(7):\n",
    "    budget_width = budget_bar[i].get_width()\n",
    "    budget_main_width = budget_width + mains_bar[i].get_width()\n",
    "    plt.text(budget_width/2, i, bars1_text[i], va='center', ha='center', size=8)\n",
    "    plt.text(budget_width + mains_bar[i].get_width()/2, i, bars2_text[i], va='center', ha='center', size=8)\n",
    "    plt.text(budget_main_width + prem_bar[i].get_width()/2, i, bars3_text[i], va='center', ha='center', size=8)\n",
    "    \n",
    "# Custom X axis\n",
    "plt.yticks(r, names)\n",
    "plt.ylabel(\"LIFESTAGE\")\n",
    "plt.xlabel(\"TOTAL SALES\")\n",
    "plt.legend(loc='center left', bbox_to_anchor=(1.0, 0.5))\n",
    "\n",
    "plt.title(\"Total Sales per Lifestage\")\n",
    "\n",
    "plt.savefig(\"lifestage_sales.png\", bbox_inches=\"tight\")\n",
    "\n",
    "# Show graphic\n",
    "plt.show()"
   ]
  },
  {
   "cell_type": "code",
   "execution_count": 36,
   "metadata": {},
   "outputs": [
    {
     "name": "stdout",
     "output_type": "stream",
     "text": [
      "Top contributor/LIFESTAGE by PREMIUM category:\n",
      "LIFESTAGE\n",
      "NEW FAMILIES                  Budget\n",
      "OLDER FAMILIES                Budget\n",
      "OLDER SINGLES/COUPLES         Budget\n",
      "YOUNG FAMILIES                Budget\n",
      "MIDAGE SINGLES/COUPLES    Mainstream\n",
      "RETIREES                  Mainstream\n",
      "YOUNG SINGLES/COUPLES     Mainstream\n",
      "Name: PREMIUM_CUSTOMER, dtype: object\n"
     ]
    }
   ],
   "source": [
    "stage_agg_prem = merged_data.groupby(\"LIFESTAGE\")[\"PREMIUM_CUSTOMER\"].agg(pd.Series.mode).sort_values()\n",
    "print(\"Top contributor/LIFESTAGE by PREMIUM category:\")\n",
    "print(stage_agg_prem)"
   ]
  },
  {
   "cell_type": "code",
   "execution_count": null,
   "metadata": {},
   "outputs": [],
   "source": []
  }
 ],
 "metadata": {
  "kernelspec": {
   "display_name": "Python 3",
   "language": "python",
   "name": "python3"
  },
  "language_info": {
   "codemirror_mode": {
    "name": "ipython",
    "version": 3
   },
   "file_extension": ".py",
   "mimetype": "text/x-python",
   "name": "python",
   "nbconvert_exporter": "python",
   "pygments_lexer": "ipython3",
   "version": "3.6.5"
  }
 },
 "nbformat": 4,
 "nbformat_minor": 4
}
